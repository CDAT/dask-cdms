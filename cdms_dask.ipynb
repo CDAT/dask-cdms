{
 "cells": [
  {
   "cell_type": "markdown",
   "metadata": {
    "toc": true
   },
   "source": [
    "<h1>Table of Contents<span class=\"tocSkip\"></span></h1>\n",
    "<div class=\"toc\"><ul class=\"toc-item\"><li><span><a href=\"#ESGF-Distributed-array-example\" data-toc-modified-id=\"ESGF-Distributed-array-example-1\"><span class=\"toc-item-num\">1&nbsp;&nbsp;</span>ESGF Distributed array example</a></span><ul class=\"toc-item\"><li><span><a href=\"#Import-CDMS-and-Dask-environment\" data-toc-modified-id=\"Import-CDMS-and-Dask-environment-1.1\"><span class=\"toc-item-num\">1.1&nbsp;&nbsp;</span>Import CDMS and Dask environment</a></span></li><li><span><a href=\"#Create-a-Cluster\" data-toc-modified-id=\"Create-a-Cluster-1.2\"><span class=\"toc-item-num\">1.2&nbsp;&nbsp;</span>Create a Cluster</a></span></li><li><span><a href=\"#Read-salinity-data-from-CMIP5\" data-toc-modified-id=\"Read-salinity-data-from-CMIP5-1.3\"><span class=\"toc-item-num\">1.3&nbsp;&nbsp;</span>Read salinity data from CMIP5</a></span></li><li><span><a href=\"#Convert-cdms-variable-into-a-dask_array-variable\" data-toc-modified-id=\"Convert-cdms-variable-into-a-dask_array-variable-1.4\"><span class=\"toc-item-num\">1.4&nbsp;&nbsp;</span>Convert cdms variable into a dask_array variable</a></span></li><li><span><a href=\"#Compute-the-mean\" data-toc-modified-id=\"Compute-the-mean-1.5\"><span class=\"toc-item-num\">1.5&nbsp;&nbsp;</span>Compute the mean</a></span></li><li><span><a href=\"#Display-the-resut\" data-toc-modified-id=\"Display-the-resut-1.6\"><span class=\"toc-item-num\">1.6&nbsp;&nbsp;</span>Display the resut</a></span></li><li><span><a href=\"#Create-colormap\" data-toc-modified-id=\"Create-colormap-1.7\"><span class=\"toc-item-num\">1.7&nbsp;&nbsp;</span>Create colormap</a></span></li><li><span><a href=\"#Convert-results-back-to-CDMS\" data-toc-modified-id=\"Convert-results-back-to-CDMS-1.8\"><span class=\"toc-item-num\">1.8&nbsp;&nbsp;</span>Convert results back to CDMS</a></span></li><li><span><a href=\"#Plot-result\" data-toc-modified-id=\"Plot-result-1.9\"><span class=\"toc-item-num\">1.9&nbsp;&nbsp;</span>Plot result</a></span></li></ul></li><li><span><a href=\"#Numba-Example\" data-toc-modified-id=\"Numba-Example-2\"><span class=\"toc-item-num\">2&nbsp;&nbsp;</span>Numba Example</a></span><ul class=\"toc-item\"><li><span><a href=\"#Serial\" data-toc-modified-id=\"Serial-2.1\"><span class=\"toc-item-num\">2.1&nbsp;&nbsp;</span>Serial</a></span></li><li><span><a href=\"#Parallel\" data-toc-modified-id=\"Parallel-2.2\"><span class=\"toc-item-num\">2.2&nbsp;&nbsp;</span>Parallel</a></span></li></ul></li><li><span><a href=\"#Run-reductions\" data-toc-modified-id=\"Run-reductions-3\"><span class=\"toc-item-num\">3&nbsp;&nbsp;</span>Run reductions</a></span><ul class=\"toc-item\"><li><span><a href=\"#First-Run-Serial-reduction\" data-toc-modified-id=\"First-Run-Serial-reduction-3.1\"><span class=\"toc-item-num\">3.1&nbsp;&nbsp;</span>First Run Serial reduction</a></span></li><li><span><a href=\"#Second-Run-paralell-reduction\" data-toc-modified-id=\"Second-Run-paralell-reduction-3.2\"><span class=\"toc-item-num\">3.2&nbsp;&nbsp;</span>Second Run paralell reduction</a></span></li></ul></li></ul></div>"
   ]
  },
  {
   "cell_type": "markdown",
   "metadata": {},
   "source": [
    "# ESGF Distributed array example"
   ]
  },
  {
   "cell_type": "markdown",
   "metadata": {},
   "source": [
    "## Import CDMS and Dask environment"
   ]
  },
  {
   "cell_type": "code",
   "execution_count": null,
   "metadata": {},
   "outputs": [],
   "source": [
    "import cdms2\n",
    "import numpy as np\n",
    "import dask.array.ma as dma\n",
    "import dask.array as da\n",
    "import dask\n",
    "from dask_kubernetes import KubeCluster\n",
    "from dask.distributed import LocalCluster\n",
    "from dask.distributed  import Client"
   ]
  },
  {
   "cell_type": "markdown",
   "metadata": {},
   "source": [
    "## Create a Cluster\n",
    "* 5 workers\n",
    "* 2 threads"
   ]
  },
  {
   "cell_type": "code",
   "execution_count": null,
   "metadata": {},
   "outputs": [],
   "source": [
    "cluster=LocalCluster(n_workers=5,threads_per_worker=2)\n",
    "display(cluster)\n",
    "c=Client(cluster)\n",
    "c"
   ]
  },
  {
   "cell_type": "markdown",
   "metadata": {},
   "source": [
    "## Read salinity data from CMIP5"
   ]
  },
  {
   "cell_type": "code",
   "execution_count": null,
   "metadata": {},
   "outputs": [],
   "source": [
    "!wget http://cdat.llnl.gov/cdat/sample_data/so_Omon_ACCESS1-0_historical_r1i1p1_185001-185412_2timesteps.nc"
   ]
  },
  {
   "cell_type": "code",
   "execution_count": null,
   "metadata": {},
   "outputs": [],
   "source": [
    "#f=cdms2.open(\"ta_day_CNRM-CM6-1_piControl_r1i1p1f2_gr_18500101-18991231.nc\")\n",
    "# f=cdms2.open(\"ta_day_CNRM-CM6-1_piControl_r1i1p1f2_gr.xml\")\n",
    "f=cdms2.open(\"so_Omon_ACCESS1-0_historical_r1i1p1_185001-185412_2timesteps.nc\")\n",
    "dataDV=f['so']\n",
    "print(dataDV.shape)\n",
    "dataDV\n"
   ]
  },
  {
   "cell_type": "markdown",
   "metadata": {},
   "source": [
    "## Convert cdms variable into a dask_array variable\n",
    "\n",
    "`cdms` includes a serializer/deserializer function that is registered to dask"
   ]
  },
  {
   "cell_type": "code",
   "execution_count": null,
   "metadata": {
    "scrolled": true
   },
   "outputs": [],
   "source": [
    "# dmaTV=dma.masked_array(dataTV)\n",
    "\n",
    "daDV=da.from_array(dataDV,chunks=(1,1,300,360),asarray=False)\n",
    "daDV"
   ]
  },
  {
   "cell_type": "markdown",
   "metadata": {},
   "source": [
    "## Compute the mean\n",
    "The mean is computed on each data point along the time axis."
   ]
  },
  {
   "cell_type": "code",
   "execution_count": null,
   "metadata": {
    "scrolled": true
   },
   "outputs": [],
   "source": [
    "%time result = da.mean(daDV, axis=0).compute()\n",
    "print(result.shape)\n",
    "result\n",
    "\n"
   ]
  },
  {
   "cell_type": "markdown",
   "metadata": {},
   "source": [
    "## Display the resut\n",
    "\n",
    "`VCS` is a package which facilitates visualization for Climate data"
   ]
  },
  {
   "cell_type": "code",
   "execution_count": null,
   "metadata": {},
   "outputs": [],
   "source": [
    "import vcs\n",
    "canvas=vcs.init()"
   ]
  },
  {
   "cell_type": "markdown",
   "metadata": {},
   "source": [
    "## Create colormap\n",
    "\n",
    "Salinity between 30psu and 40psu will be rendered"
   ]
  },
  {
   "cell_type": "code",
   "execution_count": null,
   "metadata": {},
   "outputs": [],
   "source": [
    "cmap = vcs.createcolormap(\"my_colormap9\", \"rainbow\")\n",
    "box = vcs.createboxfill()\n",
    "box.level_1=30\n",
    "box.level_2=40"
   ]
  },
  {
   "cell_type": "markdown",
   "metadata": {},
   "source": [
    "## Convert results back to CDMS\n",
    "The result is a numpy masked array, we need to add back the grid and the attributes\n",
    "\n",
    "(This will be done automatically in the next release.)"
   ]
  },
  {
   "cell_type": "code",
   "execution_count": null,
   "metadata": {},
   "outputs": [],
   "source": [
    "axes=dataDV.getAxisList()\n",
    "resultsCDMS=cdms2.createVariable(result[1,:],axes=axes[2:])\n",
    "[resultsCDMS.setattribute(name, dataDV.getattribute(name)) for name in dataDV.listattributes() if name not in ['ndim']]\n",
    "resultsCDMS.id='so'"
   ]
  },
  {
   "cell_type": "markdown",
   "metadata": {},
   "source": [
    "## Plot result"
   ]
  },
  {
   "cell_type": "code",
   "execution_count": null,
   "metadata": {
    "scrolled": true
   },
   "outputs": [],
   "source": [
    "canvas.clear()\n",
    "canvas.setcolormap(cmap)\n",
    "canvas.plot(resultsCDMS,box, long_name=\"Ocean Salinity\", units=\"psu\")"
   ]
  },
  {
   "cell_type": "markdown",
   "metadata": {},
   "source": [
    "# Numba Example"
   ]
  },
  {
   "cell_type": "markdown",
   "metadata": {},
   "source": [
    "## Serial "
   ]
  },
  {
   "cell_type": "code",
   "execution_count": null,
   "metadata": {},
   "outputs": [],
   "source": [
    "import numpy as np\n",
    "from numba import njit, prange\n",
    "def two_d_array_reduction_prod_serial(n):\n",
    "    shp = (13, 17)\n",
    "    result1 = 2 * np.ones(shp, np.int_)\n",
    "    tmp = 2 * np.ones_like(result1)\n",
    "    for i in prange(n):\n",
    "        result1 *= tmp\n",
    "    return result1\n"
   ]
  },
  {
   "cell_type": "markdown",
   "metadata": {},
   "source": [
    "## Parallel"
   ]
  },
  {
   "cell_type": "code",
   "execution_count": null,
   "metadata": {},
   "outputs": [],
   "source": [
    "@njit(parallel=True)\n",
    "def two_d_array_reduction_prod_parallel(n):\n",
    "    shp = (13, 17)\n",
    "    result1 = 2 * np.ones(shp, np.int_)\n",
    "    tmp = 2 * np.ones_like(result1)\n",
    "    for i in prange(n):\n",
    "        result1 *= tmp\n",
    "    return result1\n"
   ]
  },
  {
   "cell_type": "markdown",
   "metadata": {},
   "source": [
    "# Run reductions"
   ]
  },
  {
   "cell_type": "markdown",
   "metadata": {},
   "source": [
    "## First Run Serial reduction"
   ]
  },
  {
   "cell_type": "code",
   "execution_count": null,
   "metadata": {},
   "outputs": [],
   "source": [
    "import time\n",
    "stime = time.time()\n",
    "%time two_d_array_reduction_prod_serial(5000000)\n",
    "etime = time.time()\n",
    "durationSerial = etime - stime\n",
    "print(\"duration:\",  durationSerial)"
   ]
  },
  {
   "cell_type": "markdown",
   "metadata": {},
   "source": [
    "## Second Run paralell reduction"
   ]
  },
  {
   "cell_type": "code",
   "execution_count": null,
   "metadata": {
    "scrolled": true
   },
   "outputs": [],
   "source": [
    "import time\n",
    "# compile first\n",
    "two_d_array_reduction_prod_parallel(1)\n",
    "stime = time.time()\n",
    "%time two_d_array_reduction_prod_parallel(5000000)\n",
    "etime = time.time()\n",
    "durationPar = etime - stime\n",
    "print(\"duration:\", durationPar )\n",
    "print(((durationSerial-durationPar)/durationSerial)*100,\"% increase\")"
   ]
  },
  {
   "cell_type": "code",
   "execution_count": null,
   "metadata": {},
   "outputs": [],
   "source": [
    "import numpy.ma\n",
    "import numpy\n",
    "import dask\n",
    "import dask.array.ma\n",
    "from dask.distributed import Client\n",
    "from distributed.deploy.local import LocalCluster\n",
    "\n",
    "rand_data= numpy.random.random((20,18,365))\n",
    "ma_rand_data= numpy.ma.MaskedArray(rand_data,chunks=(1,18,365))\n",
    "da_rand_data = dask.array.ma.masked_array(ma_rand_data)\n",
    "print(da_rand_data)\n",
    "dask.array.average(da_rand_data).compute()"
   ]
  },
  {
   "cell_type": "code",
   "execution_count": null,
   "metadata": {},
   "outputs": [],
   "source": []
  }
 ],
 "metadata": {
  "kernelspec": {
   "display_name": "Python 3",
   "language": "python",
   "name": "python3"
  },
  "language_info": {
   "codemirror_mode": {
    "name": "ipython",
    "version": 3
   },
   "file_extension": ".py",
   "mimetype": "text/x-python",
   "name": "python",
   "nbconvert_exporter": "python",
   "pygments_lexer": "ipython3",
   "version": "3.6.7"
  },
  "toc": {
   "base_numbering": 1,
   "nav_menu": {},
   "number_sections": true,
   "sideBar": true,
   "skip_h1_title": false,
   "title_cell": "Table of Contents",
   "title_sidebar": "Contents",
   "toc_cell": true,
   "toc_position": {},
   "toc_section_display": true,
   "toc_window_display": true
  }
 },
 "nbformat": 4,
 "nbformat_minor": 2
}
